{
 "cells": [
  {
   "cell_type": "code",
   "execution_count": 5,
   "id": "f345b4e0-07fd-443a-b310-4c826b5b78e0",
   "metadata": {},
   "outputs": [
    {
     "name": "stdout",
     "output_type": "stream",
     "text": [
      "Running summarization with BART...\n"
     ]
    },
    {
     "name": "stderr",
     "output_type": "stream",
     "text": [
      "Device set to use mps:0\n"
     ]
    },
    {
     "name": "stdout",
     "output_type": "stream",
     "text": [
      "Running summarization with T5...\n"
     ]
    },
    {
     "name": "stderr",
     "output_type": "stream",
     "text": [
      "Device set to use mps:0\n",
      "Both `max_new_tokens` (=256) and `max_length`(=80) seem to have been set. `max_new_tokens` will take precedence. Please refer to the documentation for more information. (https://huggingface.co/docs/transformers/main/en/main_classes/text_generation)\n"
     ]
    },
    {
     "name": "stdout",
     "output_type": "stream",
     "text": [
      "\n",
      "--- Summarization Results ---\n",
      "\n",
      "BART Summary:\n",
      "Artificial intelligence (AI) refers to the simulation of human intelligence in machines that are programmed to think and learn like humans. It has various applications, includingnatural language processing, computer vision, and autonomous systems. AI has transformed industries by automating processes, improving efficiency, and enabling data-driven decision making.\n",
      "--------------------------------------------------\n",
      "\n",
      "T5 Summary:\n",
      "artificial intelligence refers to the simulation of human intelligence in machines that are programmed to think and learn like humans . it has various applications, including natural language processing, computer vision, and autonomous systems . AI raises ethical concerns related to privacy, bias, and job displacement .\n",
      "--------------------------------------------------\n",
      "\n"
     ]
    }
   ],
   "source": [
    "from transformers import pipeline\n",
    "\n",
    "text = \"\"\"\n",
    "Artificial intelligence (AI) refers to the simulation of human intelligence in machines\n",
    "that are programmed to think and learn like humans. It has various applications, including\n",
    "natural language processing, computer vision, and autonomous systems. Over the years, AI\n",
    "has transformed industries by automating processes, improving efficiency, and enabling\n",
    "data-driven decision making. However, AI also raises ethical concerns related to privacy,\n",
    "bias, and job displacement, which must be addressed as technology evolves.\n",
    "\"\"\"\n",
    "\n",
    "models = {\n",
    "    \"BART\": \"facebook/bart-large-cnn\",\n",
    "    \"T5\": \"t5-small\"\n",
    "}\n",
    "\n",
    "summaries = {}\n",
    "\n",
    "for model_name, model_id in models.items():\n",
    "    print(f\"Running summarization with {model_name}...\")\n",
    "    summarizer = pipeline(\"summarization\", model=model_id)\n",
    "    summary_output = summarizer(text, max_length=80, min_length=30, do_sample=False)\n",
    "    summaries[model_name] = summary_output[0]['summary_text']\n",
    "\n",
    "print(\"\\n--- Summarization Results ---\\n\")\n",
    "for model_name, summary in summaries.items():\n",
    "    print(f\"{model_name} Summary:\\n{summary}\\n{'-'*50}\\n\")"
   ]
  },
  {
   "cell_type": "markdown",
   "id": "e8da3838-f6b6-4946-9ea8-0ce68cc78f2d",
   "metadata": {},
   "source": [
    "## 🔎 Model Comparison: Summarization Outputs\n",
    "\n",
    "After testing different HuggingFace models on the same input text:\n",
    "\n",
    "- **BART (`facebook/bart-large-cnn`)**  \n",
    "  Produces a fluent, well-structured summary. It captures applications of AI and industry impact, but doesn’t highlight the ethical concerns much.  \n",
    "\n",
    "- **T5 (`t5-small`)**  \n",
    "  More concise and direct. It includes ethical concerns like *privacy, bias, and job displacement* but loses some of the industry impact details.  \n",
    "\n",
    "### ✅ Takeaway\n",
    "- **BART** → Best for detailed, readable summaries.  \n",
    "- **T5** → Best when conciseness and key issues are needed.  \n",
    "\n",
    "> In practice, model choice depends on use case: long-form reports (BART), short notes (T5)."
   ]
  },
  {
   "cell_type": "code",
   "execution_count": null,
   "id": "3a553098-ee6c-4f63-8d01-bb72d00ad4ee",
   "metadata": {},
   "outputs": [],
   "source": []
  }
 ],
 "metadata": {
  "kernelspec": {
   "display_name": "Python 3 (ipykernel)",
   "language": "python",
   "name": "python3"
  },
  "language_info": {
   "codemirror_mode": {
    "name": "ipython",
    "version": 3
   },
   "file_extension": ".py",
   "mimetype": "text/x-python",
   "name": "python",
   "nbconvert_exporter": "python",
   "pygments_lexer": "ipython3",
   "version": "3.10.13"
  }
 },
 "nbformat": 4,
 "nbformat_minor": 5
}
